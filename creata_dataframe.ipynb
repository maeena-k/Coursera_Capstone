{
  "nbformat": 4,
  "nbformat_minor": 0,
  "metadata": {
    "colab": {
      "name": "For Machine Learning Capstone PJT.ipynb",
      "provenance": [],
      "authorship_tag": "ABX9TyNvEQyg7WAT6CAn3kb9dalT"
    },
    "kernelspec": {
      "name": "python3",
      "display_name": "Python 3"
    }
  },
  "cells": [
    {
      "cell_type": "markdown",
      "metadata": {
        "id": "6SHB4QyDcZcL",
        "colab_type": "text"
      },
      "source": [
        "#4 Steps to Final Output\n",
        "\n",
        "1.   Import Libraries\n",
        "2.   Send Get Request to Wikipedia Page and Save Response\n",
        "3.   Create Pandas DataFrame and Shape it\n",
        "4.   Print the number of rows and columns in the DataFrame\n"
      ]
    },
    {
      "cell_type": "markdown",
      "metadata": {
        "id": "38rlK2Dsfy48",
        "colab_type": "text"
      },
      "source": [
        "###1. Import Libraries"
      ]
    },
    {
      "cell_type": "code",
      "metadata": {
        "id": "Nqzf4ihQfzSH",
        "colab_type": "code",
        "colab": {}
      },
      "source": [
        "import numpy as np\n",
        "import pandas as pd\n",
        "import requests\n",
        "from bs4 import BeautifulSoup"
      ],
      "execution_count": 0,
      "outputs": []
    },
    {
      "cell_type": "markdown",
      "metadata": {
        "id": "CkV7QMLrf4G5",
        "colab_type": "text"
      },
      "source": [
        "###2. Send Get Request to Wikipedia Page and Save Response\n",
        "\n",
        "*   Send GET request\n",
        "*   Save response to BeautifulSoup object\n",
        "*   Find Table content and save it in a variable"
      ]
    },
    {
      "cell_type": "code",
      "metadata": {
        "id": "19V4qb7BEnjS",
        "colab_type": "code",
        "colab": {}
      },
      "source": [
        "res = requests.get('https://en.wikipedia.org/wiki/List_of_postal_codes_of_Canada:_M')\n",
        "\n",
        "if res.status_code == 200:\n",
        "  bs = BeautifulSoup(res.text, 'html.parser')\n",
        "  table_contents = bs.find('table', class_=\"wikitable sortable\")\n",
        "else:\n",
        "  print(\"Requests Error: status code that we've got was {}.\".format(res.status_code))"
      ],
      "execution_count": 0,
      "outputs": []
    },
    {
      "cell_type": "markdown",
      "metadata": {
        "id": "VhRYzhAegsuS",
        "colab_type": "text"
      },
      "source": [
        "###3. Create Pandas DataFrame and Shape it\n",
        "\n",
        "*   Find values for column names and save them to list\n",
        "*   Find values for each column and save them to list\n",
        "*   Create new Pandas DataFrame\n",
        "*   Shape the DataFrame"
      ]
    },
    {
      "cell_type": "code",
      "metadata": {
        "id": "ncEaM9LGeg9E",
        "colab_type": "code",
        "colab": {
          "base_uri": "https://localhost:8080/",
          "height": 410
        },
        "outputId": "c352273e-7dc7-4253-9361-727e503e4981"
      },
      "source": [
        "column_list = [column.get_text().replace('\\n', '') for column in table_contents.find_all('th')]\n",
        "\n",
        "item_list = [item.get_text().replace('\\n', '') for item in table_contents.find_all('td')]\n",
        "length = len(item_list)\n",
        "item_list_split = [item_list[index:index + 3] for index in range(0, length, 3)]\n",
        "\n",
        "df = pd.DataFrame(item_list_split, columns=column_list)\n",
        "df = df[df['Borough'] != 'Not assigned'].sort_values(['Postal Code', 'Borough'])\n",
        "df = df.reset_index(drop=True)\n",
        "df"
      ],
      "execution_count": 3,
      "outputs": [
        {
          "output_type": "execute_result",
          "data": {
            "text/html": [
              "<div>\n",
              "<style scoped>\n",
              "    .dataframe tbody tr th:only-of-type {\n",
              "        vertical-align: middle;\n",
              "    }\n",
              "\n",
              "    .dataframe tbody tr th {\n",
              "        vertical-align: top;\n",
              "    }\n",
              "\n",
              "    .dataframe thead th {\n",
              "        text-align: right;\n",
              "    }\n",
              "</style>\n",
              "<table border=\"1\" class=\"dataframe\">\n",
              "  <thead>\n",
              "    <tr style=\"text-align: right;\">\n",
              "      <th></th>\n",
              "      <th>Postal Code</th>\n",
              "      <th>Borough</th>\n",
              "      <th>Neighborhood</th>\n",
              "    </tr>\n",
              "  </thead>\n",
              "  <tbody>\n",
              "    <tr>\n",
              "      <th>0</th>\n",
              "      <td>M1B</td>\n",
              "      <td>Scarborough</td>\n",
              "      <td>Malvern, Rouge</td>\n",
              "    </tr>\n",
              "    <tr>\n",
              "      <th>1</th>\n",
              "      <td>M1C</td>\n",
              "      <td>Scarborough</td>\n",
              "      <td>Rouge Hill, Port Union, Highland Creek</td>\n",
              "    </tr>\n",
              "    <tr>\n",
              "      <th>2</th>\n",
              "      <td>M1E</td>\n",
              "      <td>Scarborough</td>\n",
              "      <td>Guildwood, Morningside, West Hill</td>\n",
              "    </tr>\n",
              "    <tr>\n",
              "      <th>3</th>\n",
              "      <td>M1G</td>\n",
              "      <td>Scarborough</td>\n",
              "      <td>Woburn</td>\n",
              "    </tr>\n",
              "    <tr>\n",
              "      <th>4</th>\n",
              "      <td>M1H</td>\n",
              "      <td>Scarborough</td>\n",
              "      <td>Cedarbrae</td>\n",
              "    </tr>\n",
              "    <tr>\n",
              "      <th>...</th>\n",
              "      <td>...</td>\n",
              "      <td>...</td>\n",
              "      <td>...</td>\n",
              "    </tr>\n",
              "    <tr>\n",
              "      <th>98</th>\n",
              "      <td>M9N</td>\n",
              "      <td>York</td>\n",
              "      <td>Weston</td>\n",
              "    </tr>\n",
              "    <tr>\n",
              "      <th>99</th>\n",
              "      <td>M9P</td>\n",
              "      <td>Etobicoke</td>\n",
              "      <td>Westmount</td>\n",
              "    </tr>\n",
              "    <tr>\n",
              "      <th>100</th>\n",
              "      <td>M9R</td>\n",
              "      <td>Etobicoke</td>\n",
              "      <td>Kingsview Village, St. Phillips, Martin Grove ...</td>\n",
              "    </tr>\n",
              "    <tr>\n",
              "      <th>101</th>\n",
              "      <td>M9V</td>\n",
              "      <td>Etobicoke</td>\n",
              "      <td>South Steeles, Silverstone, Humbergate, Jamest...</td>\n",
              "    </tr>\n",
              "    <tr>\n",
              "      <th>102</th>\n",
              "      <td>M9W</td>\n",
              "      <td>Etobicoke</td>\n",
              "      <td>Northwest, West Humber - Clairville</td>\n",
              "    </tr>\n",
              "  </tbody>\n",
              "</table>\n",
              "<p>103 rows × 3 columns</p>\n",
              "</div>"
            ],
            "text/plain": [
              "    Postal Code      Borough                                       Neighborhood\n",
              "0           M1B  Scarborough                                     Malvern, Rouge\n",
              "1           M1C  Scarborough             Rouge Hill, Port Union, Highland Creek\n",
              "2           M1E  Scarborough                  Guildwood, Morningside, West Hill\n",
              "3           M1G  Scarborough                                             Woburn\n",
              "4           M1H  Scarborough                                          Cedarbrae\n",
              "..          ...          ...                                                ...\n",
              "98          M9N         York                                             Weston\n",
              "99          M9P    Etobicoke                                          Westmount\n",
              "100         M9R    Etobicoke  Kingsview Village, St. Phillips, Martin Grove ...\n",
              "101         M9V    Etobicoke  South Steeles, Silverstone, Humbergate, Jamest...\n",
              "102         M9W    Etobicoke                Northwest, West Humber - Clairville\n",
              "\n",
              "[103 rows x 3 columns]"
            ]
          },
          "metadata": {
            "tags": []
          },
          "execution_count": 3
        }
      ]
    },
    {
      "cell_type": "markdown",
      "metadata": {
        "id": "g5TrqfYChun9",
        "colab_type": "text"
      },
      "source": [
        "###4. Print the number of rows and columns in the DataFrame"
      ]
    },
    {
      "cell_type": "code",
      "metadata": {
        "id": "T4CgLhqObW1y",
        "colab_type": "code",
        "colab": {
          "base_uri": "https://localhost:8080/",
          "height": 34
        },
        "outputId": "694f0bdf-f3ec-416f-92d9-a9c64dbcc1b7"
      },
      "source": [
        "shape = df.shape\n",
        "print('There are {} rows and {} columns in the dataframe.'.format(shape[0], shape[1]))"
      ],
      "execution_count": 4,
      "outputs": [
        {
          "output_type": "stream",
          "text": [
            "There are 103 rows and 3 columns in the dataframe.\n"
          ],
          "name": "stdout"
        }
      ]
    }
  ]
}